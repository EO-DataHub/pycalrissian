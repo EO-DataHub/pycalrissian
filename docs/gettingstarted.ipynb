{
 "cells": [
  {
   "cell_type": "markdown",
   "metadata": {},
   "source": [
    "Import the modules "
   ]
  },
  {
   "cell_type": "code",
   "execution_count": 26,
   "metadata": {},
   "outputs": [],
   "source": [
    "from pycalrissian.context import CalrissianContext\n",
    "from pycalrissian.job import CalrissianJob\n",
    "from pycalrissian.execution import CalrissianExecution\n",
    "import base64\n",
    "import os\n",
    "import yaml\n",
    "from kubernetes.client.models.v1_job import V1Job\n"
   ]
  },
  {
   "cell_type": "code",
   "execution_count": 8,
   "metadata": {},
   "outputs": [],
   "source": [
    "os.environ[\"KUBECONFIG\"] = \"/home/mambauser/.kube/kubeconfig-t2-dev.yaml\"\n"
   ]
  },
  {
   "cell_type": "markdown",
   "metadata": {},
   "source": [
    "## Create the image pull secrets.\n",
    "\n",
    "There's one for docker.hub and one for Gitlab container registry as the CWL description to run refers container images published on those two container registries"
   ]
  },
  {
   "cell_type": "code",
   "execution_count": 9,
   "metadata": {},
   "outputs": [],
   "source": [
    "username = \"<username>\"\n",
    "password = \"<password or token>\"\n",
    "email = \"<add email here>\"\n",
    "registry = \"https://index.docker.io/v1/\"\n",
    "\n",
    "auth = base64.b64encode(f\"{username}:{password}\".encode(\"utf-8\")).decode(\n",
    "    \"utf-8\"\n",
    ")\n",
    "\n",
    "secret_config = {\n",
    "    \"auths\": {\n",
    "        registry: {\n",
    "            \"username\": username,\n",
    "            \"password\": password,\n",
    "            \"email\": email,\n",
    "            \"auth\": auth,\n",
    "        },\n",
    "        \"registry.gitlab.com\": {\n",
    "            \"auth\": \"<add a gitlab token>\"\n",
    "        },\n",
    "    }\n",
    "}"
   ]
  },
  {
   "cell_type": "markdown",
   "metadata": {},
   "source": [
    "**Take away messages about image pull secrets**\n",
    "\n",
    "* they're created as a dictionary with the same structure as your `~/.docker/config` file\n",
    "* you can use the username/password pair or the auth string "
   ]
  },
  {
   "cell_type": "markdown",
   "metadata": {},
   "source": [
    "## Create the CalrissianContext object\n",
    "\n",
    "The CalrissianContext creates a kubernetes namespace on the cluster.\n",
    "\n",
    "Note: our kubernetes cluster uses the `longhorn` RWX storage class, adapt it to your cluster configuration"
   ]
  },
  {
   "cell_type": "code",
   "execution_count": 10,
   "metadata": {},
   "outputs": [],
   "source": [
    "namespace_name = \"job-namespace\"\n",
    "\n",
    "session = CalrissianContext(\n",
    "            namespace=namespace_name,\n",
    "            storage_class=\"longhorn\",\n",
    "            volume_size=\"10G\",\n",
    "            image_pull_secrets=secret_config,\n",
    ")"
   ]
  },
  {
   "cell_type": "markdown",
   "metadata": {},
   "source": [
    "Now trigger the `CalrissianContext` initialisation with:"
   ]
  },
  {
   "cell_type": "code",
   "execution_count": 11,
   "metadata": {},
   "outputs": [
    {
     "name": "stderr",
     "output_type": "stream",
     "text": [
      "2022-07-21 09:55:40.116 | INFO     | pycalrissian.context:initialise:42 - create namespace job-namespace\n",
      "2022-07-21 09:55:40.175 | INFO     | pycalrissian.context:create_namespace:236 - creating namespace job-namespace\n",
      "2022-07-21 09:55:40.526 | INFO     | pycalrissian.context:create_namespace:250 - namespace job-namespace created\n",
      "2022-07-21 09:55:40.527 | INFO     | pycalrissian.context:initialise:59 - create role pod-manager-role\n",
      "2022-07-21 09:55:40.782 | INFO     | pycalrissian.context:initialise:68 - create role binding for role pod-manager-role\n",
      "2022-07-21 09:55:40.868 | INFO     | pycalrissian.context:initialise:59 - create role log-reader-role\n",
      "2022-07-21 09:55:40.981 | INFO     | pycalrissian.context:initialise:68 - create role binding for role log-reader-role\n",
      "2022-07-21 09:55:41.063 | INFO     | pycalrissian.context:initialise:73 - create persistent volume claim 'calrissian-wdir' of 10G with storage class longhorn\n",
      "2022-07-21 09:55:41.151 | INFO     | pycalrissian.context:initialise:87 - create secret container-rg\n",
      "2022-07-21 09:55:41.298 | INFO     | pycalrissian.context:initialise:90 - patch service account\n"
     ]
    }
   ],
   "source": [
    "session.initialise()"
   ]
  },
  {
   "cell_type": "markdown",
   "metadata": {},
   "source": [
    "## Read the CWL document\n",
    "\n",
    "Now load a CWL document and create a dictionary with the parameters:\n"
   ]
  },
  {
   "cell_type": "code",
   "execution_count": 14,
   "metadata": {},
   "outputs": [],
   "source": [
    "with open(\"../tests/app-s2-composites.0.1.0.cwl\", \"r\") as stream:\n",
    "    cwl = yaml.safe_load(stream)\n",
    "\n",
    "params = {\n",
    "    \"post_stac_item\": \"https://earth-search.aws.element84.com/v0/collections/sentinel-s2-l2a-cogs/items/S2B_53HPA_20210723_0_L2A\", # noqa: E501\n",
    "    \"pre_stac_item\": \"https://earth-search.aws.element84.com/v0/collections/sentinel-s2-l2a-cogs/items/S2B_53HPA_20210703_0_L2A\", # noqa: E501\n",
    "    \"aoi\": \"136.659,-35.96,136.923,-35.791\",\n",
    "}"
   ]
  },
  {
   "cell_type": "markdown",
   "metadata": {},
   "source": [
    "**Take away messages**\n",
    "\n",
    "* The CWL description is loaded into a Python dictionary\n",
    "* The parameters are a Python dictionary\n",
    "\n",
    "So you can discover the CWL Workflow parameters with something like:"
   ]
  },
  {
   "cell_type": "code",
   "execution_count": 23,
   "metadata": {},
   "outputs": [
    {
     "data": {
      "text/plain": [
       "{'pre_stac_item': {'doc': 'Pre-event Sentinel-2 item', 'type': 'string'},\n",
       " 'post_stac_item': {'doc': 'Post-event Sentinel-2 item', 'type': 'string'},\n",
       " 'aoi': {'doc': 'area of interest as a bounding box', 'type': 'string'},\n",
       " 'bands': {'type': 'string[]', 'default': ['B8A', 'B12', 'SCL']}}"
      ]
     },
     "execution_count": 23,
     "metadata": {},
     "output_type": "execute_result"
    }
   ],
   "source": [
    "cwl[\"$graph\"][0][\"inputs\"]"
   ]
  },
  {
   "cell_type": "markdown",
   "metadata": {},
   "source": [
    "## Create the `CalrissianJob`"
   ]
  },
  {
   "cell_type": "code",
   "execution_count": 35,
   "metadata": {},
   "outputs": [
    {
     "name": "stderr",
     "output_type": "stream",
     "text": [
      "2022-07-21 10:14:30.734 | INFO     | pycalrissian.job:__init__:59 - using default security context {'runAsUser': 0, 'runAsGroup': 0, 'fsGroup': 0}\n",
      "2022-07-21 10:14:30.736 | INFO     | pycalrissian.job:__init__:70 - job name: job-1658398470736707-9dcb0c7c-d4ba-4e06-bc4a-242767d42aa2\n",
      "2022-07-21 10:14:30.737 | INFO     | pycalrissian.job:__init__:71 - create CWL configMap\n",
      "2022-07-21 10:14:33.259 | INFO     | pycalrissian.job:__init__:73 - create processing parameters configMap\n"
     ]
    }
   ],
   "source": [
    "job = CalrissianJob(\n",
    "    cwl=cwl,\n",
    "    params=params,\n",
    "    runtime_context=session,\n",
    "    cwl_entry_point=\"dnbr\",\n",
    "    max_cores=2,\n",
    "    max_ram=\"4G\",\n",
    ")"
   ]
  },
  {
   "cell_type": "markdown",
   "metadata": {},
   "source": [
    "The `CalrissianJob` object is constructed with:\n",
    "\n",
    "* a CWL dictionary\n",
    "* a parameters dictionaty\n",
    "* a runtime context, a CalrissianContext object\n",
    "* the maximum number of cores the pods can use \n",
    "* the maximum amount of RAM  the pods can use"
   ]
  },
  {
   "cell_type": "markdown",
   "metadata": {},
   "source": [
    "The CalrissianJob can be serialized to a Kubernetes Job object:"
   ]
  },
  {
   "cell_type": "code",
   "execution_count": 36,
   "metadata": {},
   "outputs": [
    {
     "data": {
      "text/plain": [
       "True"
      ]
     },
     "execution_count": 36,
     "metadata": {},
     "output_type": "execute_result"
    }
   ],
   "source": [
    "isinstance(job.to_k8s_job(), V1Job)"
   ]
  },
  {
   "cell_type": "markdown",
   "metadata": {},
   "source": [
    "Or to a Kubernetes Job manifest in YAML:"
   ]
  },
  {
   "cell_type": "code",
   "execution_count": 37,
   "metadata": {},
   "outputs": [
    {
     "name": "stderr",
     "output_type": "stream",
     "text": [
      "2022-07-21 10:14:36.672 | INFO     | pycalrissian.job:to_yaml:134 - job job-1658398470736707-9dcb0c7c-d4ba-4e06-bc4a-242767d42aa2 serialized to job.yml\n"
     ]
    }
   ],
   "source": [
    "job.to_yaml(\"job.yml\")"
   ]
  },
  {
   "cell_type": "markdown",
   "metadata": {},
   "source": [
    "At this stage, you could do `kubectl -n job-namespace apply -f job.yml` to submit the job on kubernetes"
   ]
  },
  {
   "cell_type": "markdown",
   "metadata": {},
   "source": [
    "## Create the `CalrissianExecution` \n"
   ]
  },
  {
   "cell_type": "code",
   "execution_count": 38,
   "metadata": {},
   "outputs": [],
   "source": [
    "execution = CalrissianExecution(job=job, runtime_context=session)"
   ]
  },
  {
   "cell_type": "markdown",
   "metadata": {},
   "source": [
    "Submit the job with:"
   ]
  },
  {
   "cell_type": "code",
   "execution_count": 39,
   "metadata": {},
   "outputs": [
    {
     "name": "stderr",
     "output_type": "stream",
     "text": [
      "2022-07-21 10:14:44.069 | INFO     | pycalrissian.execution:submit:27 - submit job job-1658398470736707-9dcb0c7c-d4ba-4e06-bc4a-242767d42aa2\n",
      "2022-07-21 10:14:45.360 | INFO     | pycalrissian.execution:submit:33 - job job-1658398470736707-9dcb0c7c-d4ba-4e06-bc4a-242767d42aa2 submitted\n"
     ]
    }
   ],
   "source": [
    "execution.submit()"
   ]
  },
  {
   "cell_type": "markdown",
   "metadata": {},
   "source": [
    "Monitor the execution with:"
   ]
  },
  {
   "cell_type": "code",
   "execution_count": 40,
   "metadata": {},
   "outputs": [
    {
     "name": "stderr",
     "output_type": "stream",
     "text": [
      "2022-07-21 10:15:10.377 | INFO     | pycalrissian.execution:monitor:147 - job job-1658398470736707-9dcb0c7c-d4ba-4e06-bc4a-242767d42aa2 is active\n",
      "2022-07-21 10:15:30.454 | INFO     | pycalrissian.execution:monitor:147 - job job-1658398470736707-9dcb0c7c-d4ba-4e06-bc4a-242767d42aa2 is active\n",
      "2022-07-21 10:15:50.922 | INFO     | pycalrissian.execution:monitor:147 - job job-1658398470736707-9dcb0c7c-d4ba-4e06-bc4a-242767d42aa2 is active\n",
      "2022-07-21 10:16:12.313 | INFO     | pycalrissian.execution:monitor:147 - job job-1658398470736707-9dcb0c7c-d4ba-4e06-bc4a-242767d42aa2 is active\n",
      "2022-07-21 10:16:32.381 | INFO     | pycalrissian.execution:monitor:147 - job job-1658398470736707-9dcb0c7c-d4ba-4e06-bc4a-242767d42aa2 is active\n",
      "2022-07-21 10:16:52.430 | INFO     | pycalrissian.execution:monitor:147 - job job-1658398470736707-9dcb0c7c-d4ba-4e06-bc4a-242767d42aa2 is active\n",
      "2022-07-21 10:17:12.493 | INFO     | pycalrissian.execution:monitor:147 - job job-1658398470736707-9dcb0c7c-d4ba-4e06-bc4a-242767d42aa2 is active\n",
      "2022-07-21 10:17:32.561 | INFO     | pycalrissian.execution:monitor:147 - job job-1658398470736707-9dcb0c7c-d4ba-4e06-bc4a-242767d42aa2 is active\n",
      "2022-07-21 10:17:52.628 | INFO     | pycalrissian.execution:monitor:147 - job job-1658398470736707-9dcb0c7c-d4ba-4e06-bc4a-242767d42aa2 is active\n",
      "2022-07-21 10:18:12.697 | INFO     | pycalrissian.execution:monitor:147 - job job-1658398470736707-9dcb0c7c-d4ba-4e06-bc4a-242767d42aa2 is active\n",
      "2022-07-21 10:18:38.005 | INFO     | pycalrissian.execution:monitor:151 - exection is complete True\n",
      "2022-07-21 10:18:38.209 | INFO     | pycalrissian.execution:monitor:153 - outcome: success!\n"
     ]
    }
   ],
   "source": [
    "execution.monitor(interval=20)"
   ]
  },
  {
   "cell_type": "markdown",
   "metadata": {},
   "source": [
    "Get the execution log"
   ]
  },
  {
   "cell_type": "code",
   "execution_count": 41,
   "metadata": {},
   "outputs": [
    {
     "name": "stdout",
     "output_type": "stream",
     "text": [
      "\u001b[1;30mINFO\u001b[0m calrissian 0.11.0-sprint1 (cwltool 3.1.20211004060744)\n",
      "\u001b[1;30mINFO\u001b[0m Resolved '/workflow-input/workflow.cwl#dnbr' to 'file:///workflow-input/..2022_07_21_10_14_47.495866009/workflow.cwl#dnbr'\n",
      "\u001b[1;30mINFO\u001b[0m [workflow ] starting step node_nbr\n",
      "\u001b[1;30mINFO\u001b[0m [step node_nbr] start\n",
      "\u001b[1;30mINFO\u001b[0m [workflow node_nbr] starting step node_stac_2\n",
      "\u001b[1;30mINFO\u001b[0m [step node_stac_2] start\n",
      "\u001b[1;30mINFO\u001b[0m [step node_stac_2] start\n",
      "\u001b[1;30mINFO\u001b[0m [step node_stac_2] start\n",
      "\u001b[1;30mINFO\u001b[0m [step node_nbr] start\n",
      "\u001b[1;30mINFO\u001b[0m [workflow node_nbr_2] starting step node_stac_3\n",
      "\u001b[1;30mINFO\u001b[0m [step node_stac_3] start\n",
      "\u001b[1;30mINFO\u001b[0m [step node_stac_3] start\n",
      "\u001b[1;30mINFO\u001b[0m [step node_stac_3] start\n",
      "\u001b[1;30mINFO\u001b[0m [workflow ] start\n",
      "\u001b[1;30mINFO\u001b[0m [workflow node_nbr] start\n",
      "\u001b[1;30mINFO\u001b[0m [workflow node_nbr_2] start\n",
      "\u001b[1;30mINFO\u001b[0m [step node_stac_2] completed success\n",
      "\u001b[1;30mINFO\u001b[0m [workflow node_nbr] starting step node_subset\n",
      "\u001b[1;30mINFO\u001b[0m [step node_subset] start\n",
      "\u001b[1;30mINFO\u001b[0m [step node_subset] start\n",
      "\u001b[1;30mINFO\u001b[0m [step node_subset] start\n",
      "\u001b[1;30mINFO\u001b[0m [step node_stac_3] completed success\n",
      "\u001b[1;30mINFO\u001b[0m [workflow node_nbr_2] starting step node_subset_2\n",
      "\u001b[1;30mINFO\u001b[0m [step node_subset_2] start\n",
      "\u001b[1;30mINFO\u001b[0m [step node_subset_2] start\n",
      "\u001b[1;30mINFO\u001b[0m [step node_subset_2] start\n",
      "\u001b[1;30mINFO\u001b[0m [step node_subset] completed success\n",
      "\u001b[1;30mINFO\u001b[0m [workflow node_nbr] starting step node_nbr_2\n",
      "\u001b[1;30mINFO\u001b[0m [step node_nbr_2] start\n",
      "\u001b[1;30mINFO\u001b[0m [step node_subset_2] completed success\n",
      "\u001b[1;30mINFO\u001b[0m [workflow node_nbr_2] starting step node_nbr_3\n",
      "\u001b[1;30mINFO\u001b[0m [step node_nbr_3] start\n",
      "\u001b[1;30mINFO\u001b[0m [step node_nbr_2] completed success\n",
      "\u001b[1;30mINFO\u001b[0m [workflow node_nbr] starting step node_cog_2\n",
      "\u001b[1;30mINFO\u001b[0m [step node_cog_2] start\n",
      "\u001b[1;30mINFO\u001b[0m [step node_cog_2] completed success\n",
      "\u001b[1;30mINFO\u001b[0m [workflow node_nbr] completed success\n",
      "\u001b[1;30mINFO\u001b[0m [step node_nbr_3] completed success\n",
      "\u001b[1;30mINFO\u001b[0m [workflow node_nbr_2] starting step node_cog_3\n",
      "\u001b[1;30mINFO\u001b[0m [step node_cog_3] start\n",
      "\u001b[1;30mINFO\u001b[0m [step node_cog_3] completed success\n",
      "\u001b[1;30mINFO\u001b[0m [workflow node_nbr_2] completed success\n",
      "\u001b[1;30mINFO\u001b[0m [step node_nbr] completed success\n",
      "\u001b[1;30mINFO\u001b[0m [workflow ] starting step node_dnbr\n",
      "\u001b[1;30mINFO\u001b[0m [step node_dnbr] start\n",
      "\u001b[1;30mINFO\u001b[0m [step node_dnbr] completed success\n",
      "\u001b[1;30mINFO\u001b[0m [workflow ] starting step node_cog\n",
      "\u001b[1;30mINFO\u001b[0m [step node_cog] start\n",
      "\u001b[1;30mINFO\u001b[0m [step node_cog] completed success\n",
      "\u001b[1;30mINFO\u001b[0m [workflow ] starting step node_stac\n",
      "\u001b[1;30mINFO\u001b[0m [step node_stac] start\n",
      "\u001b[1;30mINFO\u001b[0m [step node_stac] completed success\n",
      "\u001b[1;30mINFO\u001b[0m [workflow ] completed success\n",
      "{\n",
      "    \"stac\": {\n",
      "        \"location\": \"file:///calrissian/3zt4a_7o\",\n",
      "        \"basename\": \"3zt4a_7o\",\n",
      "        \"class\": \"Directory\",\n",
      "        \"listing\": [\n",
      "            {\n",
      "                \"class\": \"File\",\n",
      "                \"location\": \"file:///calrissian/3zt4a_7o/catalog.json\",\n",
      "                \"basename\": \"catalog.json\",\n",
      "                \"checksum\": \"sha1$a5d1d9821e889aa125778e4f2e14a788ff1512ce\",\n",
      "                \"size\": 225,\n",
      "                \"path\": \"/calrissian/3zt4a_7o/catalog.json\"\n",
      "            },\n",
      "            {\n",
      "                \"class\": \"File\",\n",
      "                \"location\": \"file:///calrissian/3zt4a_7o/dnbr.tif\",\n",
      "                \"basename\": \"dnbr.tif\",\n",
      "                \"checksum\": \"sha1$87a3dfee0d055453dad525e8edd8a216121d808c\",\n",
      "                \"size\": 1402218,\n",
      "                \"path\": \"/calrissian/3zt4a_7o/dnbr.tif\"\n",
      "            },\n",
      "            {\n",
      "                \"class\": \"File\",\n",
      "                \"location\": \"file:///calrissian/3zt4a_7o/dnbr-item.json\",\n",
      "                \"basename\": \"dnbr-item.json\",\n",
      "                \"checksum\": \"sha1$1c0a635ad501c599ab258019d05c7b276515c565\",\n",
      "                \"size\": 818,\n",
      "                \"path\": \"/calrissian/3zt4a_7o/dnbr-item.json\"\n",
      "            }\n",
      "        ],\n",
      "        \"path\": \"/calrissian/3zt4a_7o\"\n",
      "    }\n",
      "}\n",
      "\u001b[1;30mINFO\u001b[0m Final process status is success\n",
      "\n"
     ]
    }
   ],
   "source": [
    "log = execution.get_log()\n",
    "print(log)"
   ]
  },
  {
   "cell_type": "markdown",
   "metadata": {},
   "source": [
    "Get the usage report"
   ]
  },
  {
   "cell_type": "code",
   "execution_count": 43,
   "metadata": {},
   "outputs": [
    {
     "data": {
      "text/plain": [
       "{'cores_allowed': 2.0,\n",
       " 'ram_mb_allowed': 4000.0,\n",
       " 'children': [{'cpus': 1.0,\n",
       "   'ram_megabytes': 268.435456,\n",
       "   'disk_megabytes': 0.0,\n",
       "   'name': 'node_stac',\n",
       "   'start_time': '2022-07-21T10:15:29+00:00',\n",
       "   'finish_time': '2022-07-21T10:15:30+00:00',\n",
       "   'elapsed_hours': 0.0002777777777777778,\n",
       "   'elapsed_seconds': 1.0,\n",
       "   'ram_megabyte_hours': 0.07456540444444444,\n",
       "   'cpu_hours': 0.0002777777777777778},\n",
       "  {'cpus': 1.0,\n",
       "   'ram_megabytes': 268.435456,\n",
       "   'disk_megabytes': 0.0,\n",
       "   'name': 'node_stac_2',\n",
       "   'start_time': '2022-07-21T10:15:33+00:00',\n",
       "   'finish_time': '2022-07-21T10:15:34+00:00',\n",
       "   'elapsed_hours': 0.0002777777777777778,\n",
       "   'elapsed_seconds': 1.0,\n",
       "   'ram_megabyte_hours': 0.07456540444444444,\n",
       "   'cpu_hours': 0.0002777777777777778},\n",
       "  {'cpus': 1.0,\n",
       "   'ram_megabytes': 268.435456,\n",
       "   'disk_megabytes': 0.0,\n",
       "   'name': 'node_stac_3',\n",
       "   'start_time': '2022-07-21T10:15:41+00:00',\n",
       "   'finish_time': '2022-07-21T10:15:42+00:00',\n",
       "   'elapsed_hours': 0.0002777777777777778,\n",
       "   'elapsed_seconds': 1.0,\n",
       "   'ram_megabyte_hours': 0.07456540444444444,\n",
       "   'cpu_hours': 0.0002777777777777778},\n",
       "  {'cpus': 1.0,\n",
       "   'ram_megabytes': 268.435456,\n",
       "   'disk_megabytes': 0.0,\n",
       "   'name': 'node_stac_4',\n",
       "   'start_time': '2022-07-21T10:15:57+00:00',\n",
       "   'finish_time': '2022-07-21T10:15:58+00:00',\n",
       "   'elapsed_hours': 0.0002777777777777778,\n",
       "   'elapsed_seconds': 1.0,\n",
       "   'ram_megabyte_hours': 0.07456540444444444,\n",
       "   'cpu_hours': 0.0002777777777777778},\n",
       "  {'cpus': 1.0,\n",
       "   'ram_megabytes': 268.435456,\n",
       "   'disk_megabytes': 0.0,\n",
       "   'name': 'node_stac_6',\n",
       "   'start_time': '2022-07-21T10:16:03+00:00',\n",
       "   'finish_time': '2022-07-21T10:16:03+00:00',\n",
       "   'elapsed_hours': None,\n",
       "   'elapsed_seconds': 0.0,\n",
       "   'ram_megabyte_hours': None,\n",
       "   'cpu_hours': None},\n",
       "  {'cpus': 1.0,\n",
       "   'ram_megabytes': 268.435456,\n",
       "   'disk_megabytes': 0.0,\n",
       "   'name': 'node_stac_5',\n",
       "   'start_time': '2022-07-21T10:16:17+00:00',\n",
       "   'finish_time': '2022-07-21T10:16:18+00:00',\n",
       "   'elapsed_hours': 0.0002777777777777778,\n",
       "   'elapsed_seconds': 1.0,\n",
       "   'ram_megabyte_hours': 0.07456540444444444,\n",
       "   'cpu_hours': 0.0002777777777777778},\n",
       "  {'cpus': 1.0,\n",
       "   'ram_megabytes': 268.435456,\n",
       "   'disk_megabytes': 2.256036,\n",
       "   'name': 'node_subset',\n",
       "   'start_time': '2022-07-21T10:16:15+00:00',\n",
       "   'finish_time': '2022-07-21T10:16:25+00:00',\n",
       "   'elapsed_hours': 0.002777777777777778,\n",
       "   'elapsed_seconds': 10.0,\n",
       "   'ram_megabyte_hours': 0.7456540444444444,\n",
       "   'cpu_hours': 0.002777777777777778},\n",
       "  {'cpus': 1.0,\n",
       "   'ram_megabytes': 268.435456,\n",
       "   'disk_megabytes': 1.128247,\n",
       "   'name': 'node_subset_3',\n",
       "   'start_time': '2022-07-21T10:16:32+00:00',\n",
       "   'finish_time': '2022-07-21T10:16:41+00:00',\n",
       "   'elapsed_hours': 0.0025,\n",
       "   'elapsed_seconds': 9.0,\n",
       "   'ram_megabyte_hours': 0.67108864,\n",
       "   'cpu_hours': 0.0025},\n",
       "  {'cpus': 1.0,\n",
       "   'ram_megabytes': 268.435456,\n",
       "   'disk_megabytes': 2.256036,\n",
       "   'name': 'node_subset_2',\n",
       "   'start_time': '2022-07-21T10:16:46+00:00',\n",
       "   'finish_time': '2022-07-21T10:16:56+00:00',\n",
       "   'elapsed_hours': 0.002777777777777778,\n",
       "   'elapsed_seconds': 10.0,\n",
       "   'ram_megabyte_hours': 0.7456540444444444,\n",
       "   'cpu_hours': 0.002777777777777778},\n",
       "  {'cpus': 1.0,\n",
       "   'ram_megabytes': 268.435456,\n",
       "   'disk_megabytes': 2.256036,\n",
       "   'name': 'node_subset_4',\n",
       "   'start_time': '2022-07-21T10:16:45+00:00',\n",
       "   'finish_time': '2022-07-21T10:16:55+00:00',\n",
       "   'elapsed_hours': 0.002777777777777778,\n",
       "   'elapsed_seconds': 10.0,\n",
       "   'ram_megabyte_hours': 0.7456540444444444,\n",
       "   'cpu_hours': 0.002777777777777778},\n",
       "  {'cpus': 1.0,\n",
       "   'ram_megabytes': 268.435456,\n",
       "   'disk_megabytes': 2.256036,\n",
       "   'name': 'node_subset_5',\n",
       "   'start_time': '2022-07-21T10:17:01+00:00',\n",
       "   'finish_time': '2022-07-21T10:17:11+00:00',\n",
       "   'elapsed_hours': 0.002777777777777778,\n",
       "   'elapsed_seconds': 10.0,\n",
       "   'ram_megabyte_hours': 0.7456540444444444,\n",
       "   'cpu_hours': 0.002777777777777778},\n",
       "  {'cpus': 1.0,\n",
       "   'ram_megabytes': 268.435456,\n",
       "   'disk_megabytes': 1.128247,\n",
       "   'name': 'node_subset_6',\n",
       "   'start_time': '2022-07-21T10:17:03+00:00',\n",
       "   'finish_time': '2022-07-21T10:17:12+00:00',\n",
       "   'elapsed_hours': 0.0025,\n",
       "   'elapsed_seconds': 9.0,\n",
       "   'ram_megabyte_hours': 0.67108864,\n",
       "   'cpu_hours': 0.0025},\n",
       "  {'cpus': 1.0,\n",
       "   'ram_megabytes': 268.435456,\n",
       "   'disk_megabytes': 4.515438,\n",
       "   'name': 'node_nbr',\n",
       "   'start_time': '2022-07-21T10:17:16+00:00',\n",
       "   'finish_time': '2022-07-21T10:17:16+00:00',\n",
       "   'elapsed_hours': None,\n",
       "   'elapsed_seconds': 0.0,\n",
       "   'ram_megabyte_hours': None,\n",
       "   'cpu_hours': None},\n",
       "  {'cpus': 1.0,\n",
       "   'ram_megabytes': 268.435456,\n",
       "   'disk_megabytes': 1.829194,\n",
       "   'name': 'node_cog',\n",
       "   'start_time': '2022-07-21T10:17:37+00:00',\n",
       "   'finish_time': '2022-07-21T10:17:37+00:00',\n",
       "   'elapsed_hours': None,\n",
       "   'elapsed_seconds': 0.0,\n",
       "   'ram_megabyte_hours': None,\n",
       "   'cpu_hours': None},\n",
       "  {'cpus': 1.0,\n",
       "   'ram_megabytes': 268.435456,\n",
       "   'disk_megabytes': 4.515438,\n",
       "   'name': 'node_nbr_2',\n",
       "   'start_time': '2022-07-21T10:17:41+00:00',\n",
       "   'finish_time': '2022-07-21T10:17:41+00:00',\n",
       "   'elapsed_hours': None,\n",
       "   'elapsed_seconds': 0.0,\n",
       "   'ram_megabyte_hours': None,\n",
       "   'cpu_hours': None},\n",
       "  {'cpus': 1.0,\n",
       "   'ram_megabytes': 268.435456,\n",
       "   'disk_megabytes': 3.947077,\n",
       "   'name': 'node_cog_2',\n",
       "   'start_time': '2022-07-21T10:17:52+00:00',\n",
       "   'finish_time': '2022-07-21T10:17:53+00:00',\n",
       "   'elapsed_hours': 0.0002777777777777778,\n",
       "   'elapsed_seconds': 1.0,\n",
       "   'ram_megabyte_hours': 0.07456540444444444,\n",
       "   'cpu_hours': 0.0002777777777777778},\n",
       "  {'cpus': 1.0,\n",
       "   'ram_megabytes': 268.435456,\n",
       "   'disk_megabytes': 4.515438,\n",
       "   'name': 'node_dnbr',\n",
       "   'start_time': '2022-07-21T10:17:57+00:00',\n",
       "   'finish_time': '2022-07-21T10:17:58+00:00',\n",
       "   'elapsed_hours': 0.0002777777777777778,\n",
       "   'elapsed_seconds': 1.0,\n",
       "   'ram_megabyte_hours': 0.07456540444444444,\n",
       "   'cpu_hours': 0.0002777777777777778},\n",
       "  {'cpus': 1.0,\n",
       "   'ram_megabytes': 268.435456,\n",
       "   'disk_megabytes': 1.402218,\n",
       "   'name': 'node_cog_3',\n",
       "   'start_time': '2022-07-21T10:18:03+00:00',\n",
       "   'finish_time': '2022-07-21T10:18:03+00:00',\n",
       "   'elapsed_hours': None,\n",
       "   'elapsed_seconds': 0.0,\n",
       "   'ram_megabyte_hours': None,\n",
       "   'cpu_hours': None},\n",
       "  {'cpus': 1.0,\n",
       "   'ram_megabytes': 268.435456,\n",
       "   'disk_megabytes': 0.0,\n",
       "   'name': 'node_stac_7',\n",
       "   'start_time': '2022-07-21T10:18:07+00:00',\n",
       "   'finish_time': '2022-07-21T10:18:09+00:00',\n",
       "   'elapsed_hours': 0.0005555555555555556,\n",
       "   'elapsed_seconds': 2.0,\n",
       "   'ram_megabyte_hours': 0.14913080888888888,\n",
       "   'cpu_hours': 0.0005555555555555556}],\n",
       " 'start_time': '2022-07-21T10:15:29+00:00',\n",
       " 'finish_time': '2022-07-21T10:18:09+00:00',\n",
       " 'elapsed_hours': 0.044444444444444446,\n",
       " 'elapsed_seconds': 160.0,\n",
       " 'total_cpu_hours': 0.01861111111111111,\n",
       " 'total_ram_megabyte_hours': 4.995882097777778,\n",
       " 'total_disk_megabytes': 32.005441,\n",
       " 'total_tasks': 19,\n",
       " 'max_parallel_cpus': 2.0,\n",
       " 'max_parallel_ram_megabytes': 536.870912,\n",
       " 'max_parallel_tasks': 2}"
      ]
     },
     "execution_count": 43,
     "metadata": {},
     "output_type": "execute_result"
    }
   ],
   "source": [
    "usage = execution.get_usage_report()\n",
    "usage"
   ]
  },
  {
   "cell_type": "markdown",
   "metadata": {},
   "source": [
    "Get the execution output"
   ]
  },
  {
   "cell_type": "code",
   "execution_count": 44,
   "metadata": {},
   "outputs": [
    {
     "data": {
      "text/plain": [
       "{'stac': {'location': 'file:///calrissian/3zt4a_7o',\n",
       "  'basename': '3zt4a_7o',\n",
       "  'class': 'Directory',\n",
       "  'listing': [{'class': 'File',\n",
       "    'location': 'file:///calrissian/3zt4a_7o/catalog.json',\n",
       "    'basename': 'catalog.json',\n",
       "    'checksum': 'sha1$a5d1d9821e889aa125778e4f2e14a788ff1512ce',\n",
       "    'size': 225,\n",
       "    'path': '/calrissian/3zt4a_7o/catalog.json'},\n",
       "   {'class': 'File',\n",
       "    'location': 'file:///calrissian/3zt4a_7o/dnbr.tif',\n",
       "    'basename': 'dnbr.tif',\n",
       "    'checksum': 'sha1$87a3dfee0d055453dad525e8edd8a216121d808c',\n",
       "    'size': 1402218,\n",
       "    'path': '/calrissian/3zt4a_7o/dnbr.tif'},\n",
       "   {'class': 'File',\n",
       "    'location': 'file:///calrissian/3zt4a_7o/dnbr-item.json',\n",
       "    'basename': 'dnbr-item.json',\n",
       "    'checksum': 'sha1$1c0a635ad501c599ab258019d05c7b276515c565',\n",
       "    'size': 818,\n",
       "    'path': '/calrissian/3zt4a_7o/dnbr-item.json'}],\n",
       "  'path': '/calrissian/3zt4a_7o'}}"
      ]
     },
     "execution_count": 44,
     "metadata": {},
     "output_type": "execute_result"
    }
   ],
   "source": [
    "output = execution.get_output()\n",
    "output"
   ]
  },
  {
   "cell_type": "markdown",
   "metadata": {},
   "source": [
    "Get a few details about the execution"
   ]
  },
  {
   "cell_type": "code",
   "execution_count": 45,
   "metadata": {},
   "outputs": [
    {
     "name": "stdout",
     "output_type": "stream",
     "text": [
      "2022-07-21 10:14:45+00:00\n",
      "2022-07-21 10:18:16+00:00\n"
     ]
    }
   ],
   "source": [
    "print(execution.get_start_time())\n",
    "print(execution.get_completion_time())"
   ]
  },
  {
   "cell_type": "code",
   "execution_count": 46,
   "metadata": {},
   "outputs": [
    {
     "name": "stdout",
     "output_type": "stream",
     "text": [
      "complete True\n",
      "succeeded True\n"
     ]
    }
   ],
   "source": [
    "print(f\"complete {execution.is_complete()}\")\n",
    "print(f\"succeeded {execution.is_succeeded()}\")"
   ]
  },
  {
   "cell_type": "markdown",
   "metadata": {},
   "source": [
    "Delete the Kubernetes namespace with:"
   ]
  },
  {
   "cell_type": "code",
   "execution_count": 47,
   "metadata": {},
   "outputs": [
    {
     "name": "stderr",
     "output_type": "stream",
     "text": [
      "2022-07-21 10:20:18.825 | INFO     | pycalrissian.context:dispose:98 - delete pod job-1658397684816381-833c694b-c50b-49c8-be05-24323d12e0ab-hjvsq\n",
      "2022-07-21 10:20:19.040 | INFO     | pycalrissian.context:dispose:98 - delete pod job-1658398470736707-9dcb0c7c-d4ba-4e06-bc4a-242767d42aa2-ql4wr\n",
      "2022-07-21 10:20:19.873 | INFO     | pycalrissian.context:dispose:101 - dispose namespace job-namespace\n"
     ]
    },
    {
     "data": {
      "text/plain": [
       "{'api_version': 'v1',\n",
       " 'code': None,\n",
       " 'details': None,\n",
       " 'kind': 'Namespace',\n",
       " 'message': None,\n",
       " 'metadata': {'_continue': None,\n",
       "              'remaining_item_count': None,\n",
       "              'resource_version': '13867261366',\n",
       "              'self_link': None},\n",
       " 'reason': None,\n",
       " 'status': \"{'phase': 'Terminating'}\"}"
      ]
     },
     "execution_count": 47,
     "metadata": {},
     "output_type": "execute_result"
    }
   ],
   "source": [
    "session.dispose()"
   ]
  },
  {
   "cell_type": "code",
   "execution_count": null,
   "metadata": {},
   "outputs": [],
   "source": []
  }
 ],
 "metadata": {
  "kernelspec": {
   "display_name": "Python 3.9.13 64-bit",
   "language": "python",
   "name": "python3"
  },
  "language_info": {
   "codemirror_mode": {
    "name": "ipython",
    "version": 3
   },
   "file_extension": ".py",
   "mimetype": "text/x-python",
   "name": "python",
   "nbconvert_exporter": "python",
   "pygments_lexer": "ipython3",
   "version": "3.9.13"
  },
  "orig_nbformat": 4,
  "vscode": {
   "interpreter": {
    "hash": "b092b3ceb185209bf534b40b2295835f349d1a9a642e5ff3920968ec9f7bbd66"
   }
  }
 },
 "nbformat": 4,
 "nbformat_minor": 2
}
